{
 "cells": [
  {
   "cell_type": "code",
   "execution_count": null,
   "metadata": {},
   "outputs": [],
   "source": [
    "pip install quandl"
   ]
  },
  {
   "cell_type": "code",
   "execution_count": null,
   "metadata": {},
   "outputs": [],
   "source": [
    "pip install pandas"
   ]
  },
  {
   "cell_type": "code",
   "execution_count": null,
   "metadata": {},
   "outputs": [],
   "source": []
  },
  {
   "cell_type": "code",
   "execution_count": 91,
   "metadata": {},
   "outputs": [
    {
     "name": "stdout",
     "output_type": "stream",
     "text": [
      "Requirement already satisfied: matplotlib in /home/themysteriouschemeng/anaconda3/lib/python3.7/site-packages (3.1.3)\n",
      "Requirement already satisfied: pyparsing!=2.0.4,!=2.1.2,!=2.1.6,>=2.0.1 in /home/themysteriouschemeng/anaconda3/lib/python3.7/site-packages (from matplotlib) (2.4.6)\n",
      "Requirement already satisfied: kiwisolver>=1.0.1 in /home/themysteriouschemeng/anaconda3/lib/python3.7/site-packages (from matplotlib) (1.1.0)\n",
      "Requirement already satisfied: cycler>=0.10 in /home/themysteriouschemeng/anaconda3/lib/python3.7/site-packages (from matplotlib) (0.10.0)\n",
      "Requirement already satisfied: python-dateutil>=2.1 in /home/themysteriouschemeng/anaconda3/lib/python3.7/site-packages (from matplotlib) (2.8.1)\n",
      "Requirement already satisfied: numpy>=1.11 in /home/themysteriouschemeng/anaconda3/lib/python3.7/site-packages (from matplotlib) (1.18.1)\n",
      "Requirement already satisfied: setuptools in /home/themysteriouschemeng/anaconda3/lib/python3.7/site-packages (from kiwisolver>=1.0.1->matplotlib) (45.2.0.post20200210)\n",
      "Requirement already satisfied: six in /home/themysteriouschemeng/anaconda3/lib/python3.7/site-packages (from cycler>=0.10->matplotlib) (1.14.0)\n",
      "Note: you may need to restart the kernel to use updated packages.\n"
     ]
    }
   ],
   "source": [
    "pip install matplotlib"
   ]
  },
  {
   "cell_type": "code",
   "execution_count": 1,
   "metadata": {},
   "outputs": [],
   "source": [
    "import math, datetime\n",
    "import pandas as pd\n",
    "import numpy as np\n",
    "from sklearn import preprocessing, svm\n",
    "from sklearn.model_selection import train_test_split\n",
    "from sklearn.linear_model import LinearRegression \n",
    "import matplotlib.pyplot as plt\n",
    "from matplotlib import style\n",
    "import pickle"
   ]
  },
  {
   "cell_type": "code",
   "execution_count": 2,
   "metadata": {},
   "outputs": [],
   "source": [
    "style.use('ggplot')"
   ]
  },
  {
   "cell_type": "markdown",
   "metadata": {},
   "source": [
    "# Simple Learning Regression Example\n",
    "\n",
    "\n",
    "### The idea of regression is to take continous data and figure out the best fit line to that data and basically thats just boil down to modelling of data "
   ]
  },
  {
   "cell_type": "markdown",
   "metadata": {},
   "source": [
    "# Regression with Stock prices"
   ]
  },
  {
   "cell_type": "code",
   "execution_count": 3,
   "metadata": {},
   "outputs": [
    {
     "name": "stdout",
     "output_type": "stream",
     "text": [
      "              Open    High     Low    Close      Volume  Ex-Dividend  \\\n",
      "Date                                                                   \n",
      "2004-08-19  100.01  104.06   95.96  100.335  44659000.0          0.0   \n",
      "2004-08-20  101.01  109.08  100.50  108.310  22834300.0          0.0   \n",
      "2004-08-23  110.76  113.48  109.05  109.400  18256100.0          0.0   \n",
      "2004-08-24  111.24  111.60  103.57  104.870  15247300.0          0.0   \n",
      "2004-08-25  104.76  108.00  103.88  106.000   9188600.0          0.0   \n",
      "\n",
      "            Split Ratio  Adj. Open  Adj. High   Adj. Low  Adj. Close  \\\n",
      "Date                                                                   \n",
      "2004-08-19          1.0  50.159839  52.191109  48.128568   50.322842   \n",
      "2004-08-20          1.0  50.661387  54.708881  50.405597   54.322689   \n",
      "2004-08-23          1.0  55.551482  56.915693  54.693835   54.869377   \n",
      "2004-08-24          1.0  55.792225  55.972783  51.945350   52.597363   \n",
      "2004-08-25          1.0  52.542193  54.167209  52.100830   53.164113   \n",
      "\n",
      "            Adj. Volume  \n",
      "Date                     \n",
      "2004-08-19   44659000.0  \n",
      "2004-08-20   22834300.0  \n",
      "2004-08-23   18256100.0  \n",
      "2004-08-24   15247300.0  \n",
      "2004-08-25    9188600.0  \n"
     ]
    }
   ],
   "source": [
    "import pandas as pd\n",
    "import quandl\n",
    "quandl.ApiConfig.api_key = \"J-uVJL6tyHsxHmZCbfb2\"\n",
    "df = quandl.get('WIKI/GOOGL')\n",
    "print(df.head())"
   ]
  },
  {
   "cell_type": "code",
   "execution_count": 4,
   "metadata": {},
   "outputs": [
    {
     "name": "stdout",
     "output_type": "stream",
     "text": [
      "            Adj. Close    HL_PCT  PCT_change  Adj. Volume\n",
      "Date                                                     \n",
      "2004-08-19   50.322842  8.441017    0.324968   44659000.0\n",
      "2004-08-20   54.322689  8.537313    7.227007   22834300.0\n",
      "2004-08-23   54.869377  4.062357   -1.227880   18256100.0\n",
      "2004-08-24   52.597363  7.753210   -5.726357   15247300.0\n",
      "2004-08-25   53.164113  3.966115    1.183658    9188600.0\n"
     ]
    }
   ],
   "source": [
    "# Deciding on the valuable data and Create of new Valuable data through Manipulation\n",
    "\n",
    "df = df[['Adj. Open', 'Adj. High', 'Adj. Low', 'Adj. Close', 'Adj. Volume', ]]\n",
    "df['HL_PCT'] = ((df['Adj. High'] - df['Adj. Low']) / df['Adj. Low']) * 100.0 # Creating New features\n",
    "df['PCT_change'] = ((df['Adj. Close'] - df['Adj. Open']) / df['Adj. Open']) * 100.0\n",
    "df = df[['Adj. Close', 'HL_PCT', 'PCT_change', 'Adj. Volume']] # Creating New dataframe\n",
    "print(df.head())"
   ]
  },
  {
   "cell_type": "code",
   "execution_count": 5,
   "metadata": {},
   "outputs": [
    {
     "name": "stdout",
     "output_type": "stream",
     "text": [
      "            Adj. Close    HL_PCT  PCT_change  Adj. Volume      label\n",
      "Date                                                                \n",
      "2004-08-19   50.322842  8.441017    0.324968   44659000.0  69.078238\n",
      "2004-08-20   54.322689  8.537313    7.227007   22834300.0  67.839414\n",
      "2004-08-23   54.869377  4.062357   -1.227880   18256100.0  68.912727\n",
      "2004-08-24   52.597363  7.753210   -5.726357   15247300.0  70.668146\n",
      "2004-08-25   53.164113  3.966115    1.183658    9188600.0  71.219849\n",
      "35\n"
     ]
    }
   ],
   "source": [
    "import math\n",
    "forecast_col = 'Adj. Close'\n",
    "df.fillna(-99999, inplace=True) #df.fillna method is use to replace the NAN with -99999 as ML cant take NAN\n",
    "\n",
    "forecast_out = int(math.ceil(0.01*len(df))) # 0.01 is 1% of the entire length of the dataset\n",
    "\n",
    "# Forecast out 1% of the entire datset\n",
    "df['label'] = df[forecast_col].shift(-forecast_out) # Label of the dataset for prediction\n",
    "\n",
    "df.dropna(inplace=True) # drop any still NaN information from the dataframe:\n",
    "print(df.head())\n",
    "print(forecast_out)"
   ]
  },
  {
   "cell_type": "code",
   "execution_count": 9,
   "metadata": {
    "scrolled": true
   },
   "outputs": [
    {
     "data": {
      "image/png": "[encoded data removed]",
      "text/plain": [
       "<Figure size 432x288 with 1 Axes>"
      ]
     },
     "metadata": {},
     "output_type": "display_data"
    },
    {
     "name": "stdout",
     "output_type": "stream",
     "text": [
      "            Adj. Close    HL_PCT  PCT_change  Adj. Volume      label  Forecast\n",
      "Date                                                                          \n",
      "2004-08-19   50.322842  8.441017    0.324968   44659000.0  69.639972       NaN\n",
      "2004-08-20   54.322689  8.537313    7.227007   22834300.0  69.078238       NaN\n",
      "2004-08-23   54.869377  4.062357   -1.227880   18256100.0  67.839414       NaN\n",
      "2004-08-24   52.597363  7.753210   -5.726357   15247300.0  68.912727       NaN\n",
      "2004-08-25   53.164113  3.966115    1.183658    9188600.0  70.668146       NaN\n",
      "                     Adj. Close  HL_PCT  PCT_change  Adj. Volume  label  \\\n",
      "Date                                                                      \n",
      "2017-11-24 01:00:00         NaN     NaN         NaN          NaN    NaN   \n",
      "2017-11-25 01:00:00         NaN     NaN         NaN          NaN    NaN   \n",
      "2017-11-26 01:00:00         NaN     NaN         NaN          NaN    NaN   \n",
      "2017-11-27 01:00:00         NaN     NaN         NaN          NaN    NaN   \n",
      "2017-11-28 01:00:00         NaN     NaN         NaN          NaN    NaN   \n",
      "\n",
      "                        Forecast  \n",
      "Date                              \n",
      "2017-11-24 01:00:00  1021.320967  \n",
      "2017-11-25 01:00:00  1024.994108  \n",
      "2017-11-26 01:00:00  1003.297622  \n",
      "2017-11-27 01:00:00  1007.763089  \n",
      "2017-11-28 01:00:00  1010.381129  \n"
     ]
    }
   ],
   "source": [
    "# X will be features, here label column will be drop\n",
    "\n",
    "forecast_col = 'Adj. Close'\n",
    "df.fillna(-99999, inplace=True)\n",
    "\n",
    "forecast_out = int(math.ceil(0.01*len(df)))\n",
    "\n",
    "df['label'] = df[forecast_col].shift(-forecast_out)\n",
    "\n",
    "#print(df.head())\n",
    "#print(forecast_out)\n",
    "\n",
    "#Converting of the dataset to numpy arrays for both features and labels using np.array method\n",
    "\n",
    "X = np.array(df.drop(['label'], 1))  # X is consider as the fetures data: df.drop method drops the label col from the dataset\n",
    "#X = X[:-forecast_out]\n",
    "X = preprocessing.scale(X) #preprocessing the feature to be in range -1 to 1 to speed up processing and help with accuracy\n",
    "\n",
    "X = X[:-forecast_out]\n",
    "X_lately = X[-forecast_out:]\n",
    "\n",
    "\n",
    "df.dropna(inplace=True)\n",
    "\n",
    "\n",
    "# X = X[:-forecast_out+1] #redifining X\n",
    "\n",
    "y = np.array(df['label']) # y is consider as the label of the dataset\n",
    "\n",
    "# Training and Testing features and labels\n",
    "\n",
    "\n",
    "X_train, X_test, y_train, y_test = train_test_split(X, y, test_size=0.2)\n",
    "\n",
    "\n",
    "#Defining Classifier\n",
    "clf = svm.SVR(kernel='poly') # Using the Support Vector Regression Classifier\n",
    "\n",
    "#For loops for using different kind of Svr parameter for accuracy\n",
    "# for k in ['linear','poly','rbf','sigmoid']:\n",
    "#     clf = svm.SVR(kernel=k)\n",
    "#     clf.fit(X_train, y_train)\n",
    "#     confidence = clf.score(X_test, y_test)\n",
    "#     print(k,confidence)\n",
    "\n",
    "\n",
    "clf = LinearRegression() # Another type of classifier 'LinearRegression' from Sklearn\n",
    "\n",
    "# After we defined the classifer, we're ready to train it. With Scikit-Learn (sklearn), you train with .fit:\n",
    "\n",
    "clf.fit(X_train, y_train) # Fitiing our training features and labels\n",
    "\n",
    "#Pickling \n",
    "# the reason why you pickle is the margin\n",
    "#the purpose of saving a classifier is to avoid doing the training step\n",
    "\n",
    "#To dump the classifier\n",
    "# with open('linearregression.pickle', 'wb') as f:\n",
    "#     pickle.dump(clf, f) #dumping a classfier clf to f directory\n",
    "    \n",
    "# To use the classifier\n",
    "# pickle_in = open('linearregression.pickle', 'rb') \n",
    "# clf = pickle.load(pickle_in)\n",
    "\n",
    "accuracy = clf.score(X_test, y_test)\n",
    "\n",
    "\n",
    "# The forecast_set is an array of forecasts, showing that not only could you just seek out a single prediction, \n",
    "# but you can seek out many at once. \n",
    "forecast_set = clf.predict(X_lately) # Predicting against X_lately\n",
    "\n",
    "#print(forecast_set, accuracy, forecast_out)\n",
    "\n",
    "#  adding a new column to our dataframe, the forecast column:\n",
    "df['Forecast'] = np.nan #this specify that the entire column is full of not a number value\n",
    "\n",
    "last_date = df.iloc[-1].name\n",
    "last_unix = last_date.timestamp()\n",
    "one_day = 86400\n",
    "next_unix = last_unix + one_day\n",
    "\n",
    "#We need to populate the dataframe with the new date and the forecast value using for loop\n",
    "\n",
    "for i in forecast_set:\n",
    "    next_date = datetime.datetime.fromtimestamp(next_unix) #Reading through the forecast set and day and setting those as d values in dataframe basically making d feature feature is nan \n",
    "    next_unix += one_day\n",
    "    #.loc reference the index for the dataframe\n",
    "    # next_date is the datestamp and the index of the dataframe\n",
    "    df.loc[next_date] = [np.nan for _ in range(len(df.columns)-1)] + [i] # takes all d first column set them to nan\n",
    "\n",
    "df['Adj. Close'].plot()\n",
    "df['Forecast'].plot()\n",
    "plt.legend(loc=4)\n",
    "plt.xlabel('Date')\n",
    "plt.ylabel('price')\n",
    "plt.show()\n",
    "\n",
    "print(df.head())\n",
    "print(df.tail())\n",
    "\n",
    "#print(forecast_out)\n",
    "\n",
    "#print(accuracy)\n",
    "\n",
    "#print(len(X), len(y))\n"
   ]
  },
  {
   "cell_type": "markdown",
   "metadata": {},
   "source": [
    "# Pickling, Scaling and little networku\n",
    "\n",
    "### pickling really dosent have anything to do with regression just simple a kind of disposal to save yourself alot of time \n",
    "\n",
    "#### Pickling is a series __ of any  python object this could be a dictionary, classifier"
   ]
  },
  {
   "cell_type": "code",
   "execution_count": 10,
   "metadata": {},
   "outputs": [],
   "source": [
    "#Pickling \n",
    "# the reason why you pickle is the margin\n",
    "#the purpose of saving a classifier is to avoid doing the training step\n",
    "\n",
    "#To dump the classifier\n",
    "with open('linearregression.pickle', 'wb') as f:\n",
    "    pickle.dump(clf, f) #dumping a classfier clf to f directory\n",
    "    \n",
    "# To use the classifier\n",
    "pickle_in = open('linearregression.pickle', 'rb') \n",
    "clf = pickle.load(pickle_in)"
   ]
  },
  {
   "cell_type": "code",
   "execution_count": 11,
   "metadata": {},
   "outputs": [
    {
     "ename": "ImportError",
     "evalue": "cannot import name 'kNeighborsClassifier' from 'sklearn.neighbors' (/home/themysteriouschemeng/anaconda3/lib/python3.7/site-packages/sklearn/neighbors/__init__.py)",
     "output_type": "error",
     "traceback": [
      "\u001b[0;31m---------------------------------------------------------------------------\u001b[0m",
      "\u001b[0;31mImportError\u001b[0m                               Traceback (most recent call last)",
      "\u001b[0;32m<ipython-input-11-6bda600667ca>\u001b[0m in \u001b[0;36m<module>\u001b[0;34m\u001b[0m\n\u001b[0;32m----> 1\u001b[0;31m \u001b[0;32mfrom\u001b[0m \u001b[0msklearn\u001b[0m\u001b[0;34m.\u001b[0m\u001b[0mneighbors\u001b[0m \u001b[0;32mimport\u001b[0m \u001b[0mkNeighborsClassifier\u001b[0m\u001b[0;34m\u001b[0m\u001b[0;34m\u001b[0m\u001b[0m\n\u001b[0m",
      "\u001b[0;31mImportError\u001b[0m: cannot import name 'kNeighborsClassifier' from 'sklearn.neighbors' (/home/themysteriouschemeng/anaconda3/lib/python3.7/site-packages/sklearn/neighbors/__init__.py)"
     ]
    }
   ],
   "source": [
    "from sklearn.neighbors import kNeighborsClassifier"
   ]
  },
  {
   "cell_type": "markdown",
   "metadata": {},
   "source": [
    "# 8th Part of ML"
   ]
  },
  {
   "cell_type": "code",
   "execution_count": 13,
   "metadata": {},
   "outputs": [],
   "source": [
    "from statistics import mean"
   ]
  },
  {
   "cell_type": "code",
   "execution_count": 14,
   "metadata": {},
   "outputs": [],
   "source": [
    "xs = [1, 2, 3, 4, 5]\n",
    "ys = [5, 4, 6, 5, 6]"
   ]
  },
  {
   "cell_type": "code",
   "execution_count": 15,
   "metadata": {},
   "outputs": [],
   "source": [
    "#Converting list to np array using np.array so we can perform matrix\n",
    "\n",
    "xs = np.array([1, 2, 3, 4, 5], dtype=np.float64)\n",
    "ys = np.array([5, 4, 6, 5, 6], dtype=np.float64)"
   ]
  },
  {
   "cell_type": "code",
   "execution_count": 19,
   "metadata": {},
   "outputs": [
    {
     "name": "stdout",
     "output_type": "stream",
     "text": [
      "0.29999999999999893\n"
     ]
    }
   ],
   "source": [
    "\n",
    "# Finding the slope (m)\n",
    "\n",
    "# If graph our data should like \n",
    "def best_fit_slope(xs, ys):\n",
    "    m = (((mean(xs)*mean(ys)) - mean(xs*ys)) /\n",
    "         ((mean(xs)**2) - mean(xs**2)))\n",
    "    return m\n",
    "\n",
    "m = best_fit_slope(xs, ys)\n",
    "print(m)"
   ]
  },
  {
   "cell_type": "markdown",
   "metadata": {},
   "source": [
    "# 9th Part"
   ]
  },
  {
   "cell_type": "code",
   "execution_count": 5,
   "metadata": {},
   "outputs": [
    {
     "name": "stdout",
     "output_type": "stream",
     "text": [
      "[4.428571428571429, 4.857142857142858, 5.2857142857142865, 5.714285714285714, 6.142857142857143, 6.571428571428572]\n",
      "0.42857142857142866 4.0\n"
     ]
    },
    {
     "ename": "NameError",
     "evalue": "name 'squared_error' is not defined",
     "output_type": "error",
     "traceback": [
      "\u001b[0;31m---------------------------------------------------------------------------\u001b[0m",
      "\u001b[0;31mNameError\u001b[0m                                 Traceback (most recent call last)",
      "\u001b[0;32m<ipython-input-5-bdfdc4dc6615>\u001b[0m in \u001b[0;36m<module>\u001b[0;34m\u001b[0m\n\u001b[1;32m     46\u001b[0m \u001b[0;34m\u001b[0m\u001b[0m\n\u001b[1;32m     47\u001b[0m \u001b[0;34m\u001b[0m\u001b[0m\n\u001b[0;32m---> 48\u001b[0;31m \u001b[0mr_squared\u001b[0m \u001b[0;34m=\u001b[0m \u001b[0mcoefficient_of_determination\u001b[0m\u001b[0;34m(\u001b[0m\u001b[0mys\u001b[0m\u001b[0;34m,\u001b[0m \u001b[0mregression_line\u001b[0m\u001b[0;34m)\u001b[0m\u001b[0;34m\u001b[0m\u001b[0;34m\u001b[0m\u001b[0m\n\u001b[0m\u001b[1;32m     49\u001b[0m \u001b[0mprint\u001b[0m\u001b[0;34m(\u001b[0m\u001b[0mr_squared\u001b[0m\u001b[0;34m)\u001b[0m\u001b[0;34m\u001b[0m\u001b[0;34m\u001b[0m\u001b[0m\n\u001b[1;32m     50\u001b[0m \u001b[0;34m\u001b[0m\u001b[0m\n",
      "\u001b[0;32m<ipython-input-5-bdfdc4dc6615>\u001b[0m in \u001b[0;36mcoefficient_of_determination\u001b[0;34m(ys_orig, ys_line)\u001b[0m\n\u001b[1;32m     23\u001b[0m \u001b[0;32mdef\u001b[0m \u001b[0mcoefficient_of_determination\u001b[0m\u001b[0;34m(\u001b[0m\u001b[0mys_orig\u001b[0m\u001b[0;34m,\u001b[0m \u001b[0mys_line\u001b[0m\u001b[0;34m)\u001b[0m\u001b[0;34m:\u001b[0m\u001b[0;34m\u001b[0m\u001b[0;34m\u001b[0m\u001b[0m\n\u001b[1;32m     24\u001b[0m     \u001b[0my_mean_line\u001b[0m \u001b[0;34m=\u001b[0m \u001b[0;34m[\u001b[0m\u001b[0mmean\u001b[0m\u001b[0;34m(\u001b[0m\u001b[0mys_orig\u001b[0m\u001b[0;34m)\u001b[0m \u001b[0;32mfor\u001b[0m \u001b[0my\u001b[0m \u001b[0;32min\u001b[0m \u001b[0mys_orig\u001b[0m\u001b[0;34m]\u001b[0m\u001b[0;34m\u001b[0m\u001b[0;34m\u001b[0m\u001b[0m\n\u001b[0;32m---> 25\u001b[0;31m     \u001b[0msquared_error_regr\u001b[0m \u001b[0;34m=\u001b[0m \u001b[0msquared_error\u001b[0m\u001b[0;34m(\u001b[0m\u001b[0mys_orig\u001b[0m\u001b[0;34m,\u001b[0m \u001b[0mys_line\u001b[0m\u001b[0;34m)\u001b[0m\u001b[0;34m\u001b[0m\u001b[0;34m\u001b[0m\u001b[0m\n\u001b[0m\u001b[1;32m     26\u001b[0m     \u001b[0msquared_error_y_mean\u001b[0m \u001b[0;34m=\u001b[0m \u001b[0msquared_error\u001b[0m\u001b[0;34m(\u001b[0m\u001b[0mys_orig\u001b[0m\u001b[0;34m,\u001b[0m \u001b[0my_mean_line\u001b[0m\u001b[0;34m)\u001b[0m\u001b[0;34m\u001b[0m\u001b[0;34m\u001b[0m\u001b[0m\n\u001b[1;32m     27\u001b[0m     \u001b[0;32mreturn\u001b[0m \u001b[0;36m1\u001b[0m \u001b[0;34m-\u001b[0m \u001b[0;34m(\u001b[0m\u001b[0msquared_error_regr\u001b[0m \u001b[0;34m/\u001b[0m \u001b[0msquared_error_y_mean\u001b[0m \u001b[0;34m)\u001b[0m\u001b[0;34m\u001b[0m\u001b[0;34m\u001b[0m\u001b[0m\n",
      "\u001b[0;31mNameError\u001b[0m: name 'squared_error' is not defined"
     ]
    }
   ],
   "source": [
    "from statistics import mean\n",
    "import numpy as np\n",
    "import matplotlib.pyplot as plt\n",
    "from matplotlib import style\n",
    "style.use('ggplot')\n",
    "\n",
    "xs = np.array([1,2,3,4,5,6], dtype=np.float64)\n",
    "ys = np.array([5, 4, 6, 5,6, 7], dtype=np.float64)\n",
    "\n",
    "def best_fit_slope_and_intercept(xs,ys):\n",
    "    m = ( ( (mean(xs)*mean(ys))- mean(xs*ys) ) /\n",
    "         ((mean(xs)*mean(xs)) - mean(xs*xs) ))\n",
    "    \n",
    "    b = mean(ys) - m*mean(xs)\n",
    "    \n",
    "    return m, b\n",
    "\n",
    "# Calculating Squared error\n",
    "\n",
    "def square_error(ys_orig, ys_line):\n",
    "    return sum((ys_line - y_orig)**2)\n",
    "\n",
    "def coefficient_of_determination(ys_orig, ys_line):\n",
    "    y_mean_line = [mean(ys_orig) for y in ys_orig]\n",
    "    squared_error_regr = squared_error(ys_orig, ys_line)\n",
    "    squared_error_y_mean = squared_error(ys_orig, y_mean_line)\n",
    "    return 1 - (squared_error_regr / squared_error_y_mean )\n",
    "    \n",
    "# Check more on using this function\n",
    "m, b = best_fit_slope_and_intercept(xs,ys)\n",
    "\n",
    "\n",
    "# Creating lines that fit the table \n",
    "# we could make a fnx for this or just knock it out in a single 1 linear loop\n",
    "\n",
    " # linear_regression = [(m * x) + b for x in xs]\n",
    "\n",
    "regression_line = []\n",
    "\n",
    "for  x in xs:\n",
    "    regression_line.append((m *x) + b)\n",
    "\n",
    "print(regression_line)\n",
    "\n",
    "print(m, b)\n",
    "\n",
    "\n",
    "r_squared = coefficient_of_determination(ys, regression_line)\n",
    "print(r_squared)\n",
    "\n",
    "\n",
    "# plotting\n",
    "\n",
    "plt.scatter(xs,ys,color='#003F72')\n",
    "plt.plot(xs, regression_line)\n",
    "plt.show()\n",
    "\n",
    "\n",
    "# Making predictions using the models we've just created\n",
    "\n",
    "predict_x = 7\n",
    "\n",
    "# We have our input data, our \"feature\" so to speak. What's the label? \n",
    "\n",
    "predict_x = 7\n",
    "predict_y = (m*predict_x)+b\n",
    "\n",
    "plt.scatter(xs,ys,color='#003F72',label='data')\n",
    "plt.plot(xs, regression_line, label='regression line')\n",
    "plt.legend(loc=4)\n",
    "plt.show()"
   ]
  },
  {
   "cell_type": "code",
   "execution_count": 12,
   "metadata": {},
   "outputs": [
    {
     "name": "stdout",
     "output_type": "stream",
     "text": [
      "0.3214285714285714\n"
     ]
    }
   ],
   "source": [
    "from statistics import mean\n",
    "import numpy as np\n",
    "import matplotlib.pyplot as plt\n",
    "from matplotlib import style\n",
    "style.use('ggplot')\n",
    "\n",
    "xs = np.array([1,2,3,4,5], dtype=np.float64)\n",
    "ys = np.array([5,4,6,5,6], dtype=np.float64)\n",
    "\n",
    "def best_fit_slope_and_intercept(xs,ys):\n",
    "    m = (((mean(xs)*mean(ys)) - mean(xs*ys)) /\n",
    "         ((mean(xs)*mean(xs)) - mean(xs*xs)))\n",
    "    b = mean(ys) - m*mean(xs)\n",
    "    return m, b\n",
    "\n",
    "def squared_error(ys_orig,ys_line):\n",
    "    return sum((ys_line - ys_orig) * (ys_line - ys_orig))\n",
    "\n",
    "# b = squared_error(ys_orig,ys_line)\n",
    "# print(b)\n",
    "def coefficient_of_determination(ys_orig,ys_line):\n",
    "    y_mean_line = [mean(ys_orig) for y in ys_orig]\n",
    "    squared_error_regr = squared_error(ys_orig, ys_line)\n",
    "    squared_error_y_mean = squared_error(ys_orig, y_mean_line)\n",
    "    return 1 - (squared_error_regr/squared_error_y_mean)\n",
    "    \n",
    "m, b = best_fit_slope_and_intercept(xs,ys)\n",
    "regression_line = [(m*x)+b for x in xs]\n",
    "\n",
    "r_squared = coefficient_of_determination(ys,regression_line)\n",
    "print(r_squared)\n"
   ]
  },
  {
   "cell_type": "markdown",
   "metadata": {},
   "source": [
    "## PART 12"
   ]
  },
  {
   "cell_type": "code",
   "execution_count": 11,
   "metadata": {},
   "outputs": [
    {
     "data": {
      "image/png": "[encoded data removed]",
      "text/plain": [
       "<Figure size 432x288 with 1 Axes>"
      ]
     },
     "metadata": {},
     "output_type": "display_data"
    }
   ],
   "source": [
    "import random\n",
    "import numpy as np\n",
    "import matplotlib.pyplot as plt\n",
    "\n",
    "\n",
    "\n",
    "def create_dataset(hm, variance, step=2, correlation=False):\n",
    "# hm; the value will be \"how much\" this is how many dataponts that we want in the set.\n",
    "# variance: this will dictate how much each point vary from previous point. the more variance the less-tight the data will be\n",
    "\n",
    "# Step: this will be how far to step onn average per point defaulting to 2.\n",
    "\n",
    "# correlation: This will be either false, pos, or neg to indicatte that we want no correlation, positive correlation, or negative correlation\n",
    "    val = 1\n",
    "    ys = []\n",
    "    \n",
    "    for i in range(hm):\n",
    "        y = val + random.randrange(-variance, variance)\n",
    "        ys.append(y)\n",
    "        if correlation and correlation == 'pos':\n",
    "            val+=step\n",
    "        elif correlation and correlation == 'neg':\n",
    "            val -= step\n",
    "            \n",
    "    xs = [i for i in range(len(ys))]\n",
    "    \n",
    "        \n",
    "    return np.array(xs, dtype=np.float64), np.array(ys, dtype=np.float64)\n",
    "\n",
    "xs, ys = create_dataset(40, 40, 2, correlation='pos')\n",
    "\n",
    "\n",
    "plt.scatter(xs, ys)\n",
    "#plt.plot(xs, regression_line)\n",
    "plt.show()"
   ]
  },
  {
   "cell_type": "code",
   "execution_count": null,
   "metadata": {},
   "outputs": [],
   "source": []
  }
 ],
 "metadata": {
  "kernelspec": {
   "display_name": "Python 3",
   "language": "python",
   "name": "python3"
  },
  "language_info": {
   "codemirror_mode": {
    "name": "ipython",
    "version": 3
   },
   "file_extension": ".py",
   "mimetype": "text/x-python",
   "name": "python",
   "nbconvert_exporter": "python",
   "pygments_lexer": "ipython3",
   "version": "3.7.6"
  }
 },
 "nbformat": 4,
 "nbformat_minor": 4
}
